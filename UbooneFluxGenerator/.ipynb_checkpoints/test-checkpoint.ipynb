{
 "cells": [
  {
   "cell_type": "code",
   "execution_count": 5,
   "metadata": {
    "collapsed": false
   },
   "outputs": [],
   "source": [
    "%matplotlib inline\n",
    "import numpy as np\n",
    "import pandas as pd\n",
    "import matplotlib.pyplot as plt\n",
    "import sample as sm\n",
    "from NotebookUtils.ProgressBar import LogProgress as LP\n",
    "plt.rcParams['font.family']='serif' \n",
    "plt.rcParams['font.weight']='light'\n",
    "plt.rcParams['font.size']=14\n",
    "figsize = (16,8)\n",
    "dataDir = '/Users/sdporzio/Data/'\n",
    "\n",
    "inDir = dataDir+'HeavySterileNeutrinos/Bnb_MesonSpectrum/'\n",
    "inData_k = pd.read_csv(inDir+'momentumSpectrum_K+.csv')\n",
    "inData_pi = pd.read_csv(inDir+'momentumSpectrum_Pi+.csv')\n",
    "spec_k = np.array([inData_k.Momentum.values,inData_k.Spectrum.values])\n",
    "spec_pi = np.array([inData_pi.Momentum.values,inData_pi.Spectrum.values])\n",
    "\n",
    "glob = pd.read_json('Constants/constants.json')\n",
    "c = glob['physics']['constants']['c']\n",
    "m_mes = glob['physics']['mass']['k+']\n",
    "f_mes = glob['physics']['decay_const']['k+']\n",
    "t_mes = glob['physics']['mean_life']['k+']\n",
    "v_mes = glob['physics']['ckm']['us']\n",
    "m_lep = glob['physics']['mass']['mu']\n",
    "g_f = glob['physics']['constants']['Gf']\n",
    "detW = glob['experiment']['detector']['width']\n",
    "detH = glob['experiment']['detector']['height']\n",
    "detL = glob['experiment']['detector']['length']\n",
    "detD = glob['experiment']['detector']['distance']\n",
    "pipeL = glob['experiment']['decay_pipe']['length']\n",
    "detD = detD - detL/2.\n",
    "area = detH*detW\n",
    "pi = np.pi\n",
    "radius = np.sqrt(area/(2*pi))"
   ]
  },
  {
   "cell_type": "code",
   "execution_count": 32,
   "metadata": {
    "collapsed": false
   },
   "outputs": [],
   "source": [
    "def ThetaMax(l):\n",
    "    thetaMax = np.arccos( (detD-l) / np.sqrt((detD-l)**2 + (radius)**2) )\n",
    "    return thetaMax\n",
    "\n",
    "def ProjectionFunction(l,theta):\n",
    "    proj = np.where(abs(theta) >= ThetaMax(l), 0, 1)\n",
    "    return proj\n",
    "\n",
    "def Spectrum_Mes(p_spec,f_spec,e_nu,theta,l,m_mes,m_lep,t_mes):\n",
    "    p_mes = P_Mes(e_nu,theta,m_mes,m_lep,+1)\n",
    "    spec_mes = np.interp(p_mes,spec_k[0],spec_k[1])\n",
    "    lambda_mes = (t_mes*c)*(p_mes/float(m_mes))\n",
    "    spec_mes = spec_mes*np.exp(-1*np.divide(l,lambda_mes))\n",
    "    return spec_mes\n",
    "\n",
    "def ThetaC(e_nu,m_mes,m_lep):\n",
    "    arg = (m_mes**2. - m_lep**2.)/float(2.*m_mes*e_nu)\n",
    "    thetaC = np.arcsin(arg)\n",
    "    return thetaC\n",
    "\n",
    "def P_Mes(e_nu,theta,m_mes,m_lep,sign):\n",
    "    cosTheta = np.cos(theta)\n",
    "    num1 = (m_mes**2. - m_lep**2.)*cosTheta\n",
    "    num2 = np.sqrt((m_mes**2. - m_lep**2.)**2. - 4.*(1-(cosTheta)**2.)*m_mes**2. * e_nu**2.)\n",
    "    den = 2.*(1-(cosTheta)**2.)*e_nu\n",
    "    if sign>0:\n",
    "        momentum = (num1+num2)/float(den)\n",
    "    if sign<0:\n",
    "        momentum = (num1-num2)/float(den)\n",
    "    return momentum\n",
    "\n",
    "def E_Mes(p_mes,m_mes):\n",
    "    energy = np.sqrt(p_mes**2 + m_mes**2)\n",
    "    return energy\n",
    "    \n",
    "def MatrixElement2(m_mes,f_mes,v_mes):\n",
    "    matrixElement2 = 2*(g_f**2.)*(f_mes**2.)*(m_mes**4.)*(v_mes**2.)*((m_lep/float(m_mes))**2. - (m_lep/float(m_mes))**4.)\n",
    "    return matrixElement2\n",
    "\n",
    "def F_Term(p_spec,f_spec,e_nu,theta,l,m_mes,f_mes,v_mes,sign):\n",
    "    p_mes = P_Mes(e_nu,theta,m_mes,m_lep,sign)\n",
    "    e_mes = E_Mes(p_mes,m_mes)\n",
    "    cosTheta = np.cos(theta)\n",
    "    term1 = Spectrum_Mes(p_spec,f_spec,e_nu,theta,l,m_mes,m_lep,t_mes)\n",
    "    term2 = m_mes/float(p_mes)\n",
    "    term3 = 1./float(2.*e_mes)\n",
    "    term4 = 1./float(2.*np.absolute(cosTheta-(p_mes/float(e_mes))))\n",
    "    result = term1*term2*term3*term4\n",
    "    return result\n",
    "\n",
    "def F_Low(p_spec,f_spec,e_nu,theta,l,m_mes,f_mes,v_mes):\n",
    "    matEl = MatrixElement2(m_mes,f_mes,v_mes)\n",
    "    fPlus = F_Term(p_spec,f_spec,e_nu,theta,l,m_mes,f_mes,v_mes,1)\n",
    "    fLow = (matEl/float(8.*pi**2.))*fPlus\n",
    "    return fLow\n",
    "    \n",
    "def F_High(p_spec,f_spec,e_nu,theta,l,m_mes,f_mes,v_mes):\n",
    "    matEl = MatrixElement2(m_mes,f_mes,v_mes)\n",
    "    fPlus = F_Term(p_spec,f_spec,e_nu,theta,l,m_mes,f_mes,v_mes,1)\n",
    "    fMinus = F_Term(p_spec,f_spec,e_nu,theta,l,m_mes,f_mes,v_mes,-1)\n",
    "    fHigh = (matEl/float(8.*pi**2.))*(fMinus+fPlus)\n",
    "    return fHigh"
   ]
  },
  {
   "cell_type": "code",
   "execution_count": 33,
   "metadata": {
    "collapsed": false
   },
   "outputs": [
    {
     "name": "stderr",
     "output_type": "stream",
     "text": [
      "/Library/Python/2.7/site-packages/ipykernel/__main__.py:27: RuntimeWarning: invalid value encountered in double_scalars\n",
      "/Library/Python/2.7/site-packages/ipykernel/__main__.py:27: RuntimeWarning: divide by zero encountered in double_scalars\n",
      "/Library/Python/2.7/site-packages/ipykernel/__main__.py:47: RuntimeWarning: invalid value encountered in double_scalars\n"
     ]
    },
    {
     "name": "stdout",
     "output_type": "stream",
     "text": [
      "[ nan  nan  nan  nan  nan  nan  nan  nan  nan  nan  nan  nan  nan  nan  nan\n",
      "  nan  nan  nan  nan  nan]\n"
     ]
    }
   ],
   "source": [
    "eRange = np.linspace(0,230,20)\n",
    "lengthRange = np.linspace(0,50,20)\n",
    "cosThetaRange = np.linspace(-1,1,20)\n",
    "critE = (m_mes**2. - m_lep**2.)/float(2.*m_mes)\n",
    "flux = np.zeros(len(eRange))\n",
    "for i,e_nu in enumerate(eRange):\n",
    "    lInteg = 0\n",
    "    for j,l in enumerate(lengthRange):\n",
    "        tInteg = 0\n",
    "        for k,cosTheta in enumerate(cosThetaRange):\n",
    "            theta = np.arccos(cosTheta)\n",
    "            fTerm = F_Low(spec_k[0],spec_k[1],e_nu,theta,l,m_mes,f_mes,v_mes)\n",
    "            projTerm = ProjectionFunction(l,theta)\n",
    "            tInteg += fTerm*projTerm\n",
    "        lInteg += tInteg\n",
    "    flux[i] = lInteg\n",
    "\n",
    "# plt.figure(figsize=figsize)\n",
    "# plt.plot(eRange,flux)\n",
    "# plt.show()"
   ]
  },
  {
   "cell_type": "code",
   "execution_count": null,
   "metadata": {
    "collapsed": true
   },
   "outputs": [],
   "source": []
  }
 ],
 "metadata": {
  "kernelspec": {
   "display_name": "Python 2",
   "language": "python",
   "name": "python2"
  },
  "language_info": {
   "codemirror_mode": {
    "name": "ipython",
    "version": 2
   },
   "file_extension": ".py",
   "mimetype": "text/x-python",
   "name": "python",
   "nbconvert_exporter": "python",
   "pygments_lexer": "ipython2",
   "version": "2.7.10"
  }
 },
 "nbformat": 4,
 "nbformat_minor": 0
}
