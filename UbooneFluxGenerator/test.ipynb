{
 "cells": [
  {
   "cell_type": "code",
   "execution_count": 72,
   "metadata": {
    "collapsed": true
   },
   "outputs": [],
   "source": [
    "%matplotlib inline\n",
    "import numpy as np\n",
    "import pandas as pd\n",
    "import json\n",
    "import matplotlib.pyplot as plt\n",
    "plt.rcParams['font.family']='serif' \n",
    "plt.rcParams['font.weight']='light'\n",
    "plt.rcParams['font.size']=14\n",
    "figsize = (15,5)"
   ]
  },
  {
   "cell_type": "code",
   "execution_count": 81,
   "metadata": {
    "collapsed": false
   },
   "outputs": [],
   "source": [
    "glob = pd.read_json('Constants/constants.json')\n",
    "v = glob['physics']['ckm']['us']\n",
    "m_mes = glob['physics']['mass']['k+']\n",
    "m_lep = glob['physics']['mass']['mu']\n",
    "f_mes = glob['physics']['decayConst']['k+']\n",
    "g_f = glob['physics']['constants']['Gf']\n",
    "detW = glob['experiment']['detector']['width']\n",
    "detH = glob['experiment']['detector']['height']\n",
    "detL = glob['experiment']['detector']['length']\n",
    "detD = glob['experiment']['detector']['distance']\n",
    "pipeL = glob['experiment']['decayPipe']['length']\n",
    "detD = detD - detL/2.\n",
    "area = detH*detW\n",
    "radius = np.sqrt(area/(2*np.pi))"
   ]
  },
  {
   "cell_type": "code",
   "execution_count": 82,
   "metadata": {
    "collapsed": true
   },
   "outputs": [],
   "source": [
    "def MesonFlux(flux_mes,p_mes,l):\n",
    "    '''\n",
    "    Meson flux as a function of position in the decay pipe.\n",
    "    '''\n",
    "    lambda_mes = 3.7*p_mes/m_mes\n",
    "    flux_mes = flux_mes * np.exp(-l/float(lambda_mes))\n",
    "    return flux_mes\n",
    "\n",
    "def ThetaMax(l):\n",
    "    '''\n",
    "    Maximum angle with respect to the beam line that a neutrino\n",
    "    can have in order to go through the detector.\n",
    "    '''\n",
    "    thetaMax = np.arccos( (targDetDistance-l) / np.sqrt((targDetDistance-x)**2 + (radius)**2) )\n",
    "    thetaMax = np.degrees(thetaMax)\n",
    "    return thetaMax\n",
    "\n",
    "def ProjectionFunction(x,theta):\n",
    "    '''\n",
    "    Projection function. Returns 1 if neutrino trajectory is inside\n",
    "    the detector. Return 0 otherwise.\n",
    "    '''\n",
    "    proj = np.where(abs(theta) >= ThetaMax(x), 0, 1)\n",
    "    return proj\n",
    "\n",
    "def LIPS(e_nu,p_mes,theta):\n",
    "    '''\n",
    "    Lorentz invariant phase space factor.\n",
    "    '''\n",
    "    psFactor = m_mes**2. - m_lep**2. - 2*e_nu*np.sqrt(p_mes**2. + m_mes**2.) + 2.*p_mes*e_nu*np.cos(theta)\n",
    "    if psFactor == 0:\n",
    "        return 1\n",
    "    else:\n",
    "        return 0\n",
    "\n",
    "def MatrixElement2():\n",
    "    '''\n",
    "    Matrix element for meson 2-body decay.\n",
    "    '''\n",
    "    matrixElement2 = 2*(g_f**2.)*(f_mes**2.)*(m_mes**4)*(v**2)*((m_lep/float(m_mes))**2 - (m_lep/float(m_mes))**4)\n",
    "    return matrixElement2\n",
    "\n",
    "def DiffDecayWidth(e_mes,e_nu,p_mes,theta):\n",
    "    '''\n",
    "    Differential decay width.\n",
    "    '''\n",
    "    diffDecayWidth = MatrixElement2()/float(2.*e_mes) * e_nu/float(8.*np.pi**2) * LIPS(e_nu,p_mes,theta)\n",
    "    return diffDecayWidth\n",
    "\n",
    "def SourceTerm(flux_mes,p_mes,e_mes,e_nu,theta,l):\n",
    "    '''\n",
    "    Source term for the neutrino flux.\n",
    "    '''\n",
    "    source = MesonFlux(flux_mes,p_mes,l)*(p_mes/float(m_mes))*DiffDecayWidth(e_mes,e_nu,p_mes,theta)\n",
    "    return source\n",
    "    \n"
   ]
  },
  {
   "cell_type": "code",
   "execution_count": null,
   "metadata": {
    "collapsed": true
   },
   "outputs": [],
   "source": []
  }
 ],
 "metadata": {
  "kernelspec": {
   "display_name": "Python 2",
   "language": "python",
   "name": "python2"
  },
  "language_info": {
   "codemirror_mode": {
    "name": "ipython",
    "version": 2
   },
   "file_extension": ".py",
   "mimetype": "text/x-python",
   "name": "python",
   "nbconvert_exporter": "python",
   "pygments_lexer": "ipython2",
   "version": "2.7.10"
  }
 },
 "nbformat": 4,
 "nbformat_minor": 0
}
